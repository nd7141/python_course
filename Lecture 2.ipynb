{
 "metadata": {
  "name": ""
 },
 "nbformat": 3,
 "nbformat_minor": 0,
 "worksheets": [
  {
   "cells": [
    {
     "cell_type": "markdown",
     "metadata": {},
     "source": [
      "### [Random module](http://docs.python.org/2/library/random.html)\n",
      "\n",
      "\u0421\u0442\u0430\u043d\u0434\u0430\u0440\u0442\u043d\u0430\u044f \u0431\u0438\u0431\u043b\u0438\u043e\u0442\u0435\u043a\u0430. \u0418\u0441\u043f\u043e\u043b\u044c\u0437\u0443\u0435\u0442\u0441\u044f \u0434\u043b\u044f \u0433\u0435\u043d\u0435\u0440\u0430\u0446\u0438\u0438 \u0441\u043b\u0443\u0447\u0430\u0439\u043d\u044b\u0445 \u0432\u0435\u043b\u0438\u0447\u0438\u043d, \"\u043c\u0435\u0448\u0430\u043d\u0438\u044f\" \u0441\u043f\u0438\u0441\u043a\u043e\u0432 \u0432 \u0441\u043b\u0443\u0447\u0430\u0439\u043d\u043e\u043c \u043f\u043e\u0440\u044f\u0434\u043a\u0435, \u0432\u044b\u0431\u043e\u0440\u0430 \u0441\u043b\u0443\u0447\u0430\u0439\u043d\u043e\u0433\u043e \u044d\u043b\u0435\u043c\u0435\u043d\u0442\u0430 \u0438\u0437 \u0441\u043f\u0438\u0441\u043a\u0430."
     ]
    },
    {
     "cell_type": "code",
     "collapsed": false,
     "input": [
      "import random\n",
      "\n",
      "print random.random()\n",
      "print random.uniform(-1, 0)\n",
      "print random.randint(1, 10)\n",
      "\n",
      "lst = random.sample(range(-100, 100, 2), 10)\n",
      "print lst\n",
      "print random.choice(lst)\n",
      "random.shuffle(lst)\n",
      "print lst"
     ],
     "language": "python",
     "metadata": {},
     "outputs": []
    },
    {
     "cell_type": "markdown",
     "metadata": {},
     "source": [
      "### [Itertools](https://docs.python.org/2/library/itertools.html)\n",
      "\n",
      "\u0421\u0442\u0430\u043d\u0434\u0430\u0440\u0442\u043d\u0430\u044f \u0431\u0438\u0431\u043b\u0438\u043e\u0442\u0435\u043a\u0430. \u0418\u0441\u043f\u043e\u043b\u044c\u0437\u0443\u0435\u0442\u0441\u044f \u0434\u043b\u044f \u0440\u0430\u0431\u043e\u0442\u044b \u0441 \u043b\u0438\u0441\u0442\u0430\u043c\u0438. \u041c\u043e\u0436\u0435\u0442 \u0441\u0434\u0435\u043b\u0430\u0442\u044c \u0438\u0437 \u0441\u043f\u0438\u0441\u043a\u0430 \u0446\u0438\u043a\u043b\u0438\u0447\u043d\u0443\u044e \u0441\u0442\u0440\u0443\u043a\u0442\u0443\u0440\u0443, \u043e\u0431\u044a\u0435\u0434\u0438\u043d\u0438\u0442\u044c \u0434\u0432\u0430 \u0441\u043f\u0438\u0441\u043a\u0430 \u0432 \u043e\u0434\u0438\u043d. \u0421\u043e\u0437\u0434\u0430\u043d\u0438\u0435 \u0434\u0435\u043a\u0430\u0440\u0442\u043e\u0432\u0430 \u043f\u0440\u043e\u0438\u0437\u0432\u0435\u0434\u0435\u043d\u0438\u044f, \u0441\u043e\u0447\u0435\u0442\u0430\u043d\u0438\u0439 \u0438 \u043f\u0435\u0440\u0435\u0441\u0442\u0430\u043d\u043e\u0432\u043e\u043a \u0442\u043e\u0436\u0435 \u043c\u043e\u0436\u0435\u0442 \u0431\u044b\u0442\u044c \u0441\u0434\u0435\u043b\u0430\u043d\u043e \u0437\u0434\u0435\u0441\u044c."
     ]
    },
    {
     "cell_type": "code",
     "collapsed": false,
     "input": [
      "import itertools as it\n",
      "\n",
      "# for i in it.chain([1, 2, 3], ['a', 'b', 'c']):\n",
      "#     print i\n",
      "    \n",
      "# for i in it.izip([1, 2, 3], ['a', 'b', 'c']):\n",
      "#     print i\n",
      "\n",
      "# for i in it.islice(range(10), 5):\n",
      "#     print i\n",
      "\n",
      "# i1, i2, i3 = it.tee(range(3), 3)\n",
      "# for i in i1:\n",
      "#     print i\n",
      "    \n",
      "# print list(it.imap(lambda x, y: (x**2, y**3), range(3), range(4,7)))\n",
      "\n",
      "# counter = it.count()\n",
      "# for i in it.cycle(['a', 'b', 'c']):\n",
      "#     print i\n",
      "#     if counter.next() > 5:\n",
      "#         break\n",
      "\n",
      "l1 = ['a', 'b', 'c', 'd']\n",
      "l2 = [random.randint(0, 1) for i in range(4)]\n",
      "# print l1, l2\n",
      "\n",
      "list(it.compress(l1, l2))\n",
      "list(it.product(l1, l2))\n",
      "list(it.permutations(l1))\n",
      "list(it.combinations(l1, 2))\n"
     ],
     "language": "python",
     "metadata": {},
     "outputs": []
    },
    {
     "cell_type": "markdown",
     "metadata": {},
     "source": [
      "### [Collections](https://docs.python.org/2/library/collections.html)\n",
      "\n",
      "\u0421\u0442\u0430\u043d\u0434\u0430\u0440\u0442\u043d\u0430\u044f \u0431\u0438\u0431\u043b\u0438\u043e\u0442\u0435\u043a\u0430. \u0418\u0441\u043f\u043e\u043b\u044c\u0437\u0443\u0435\u0442\u0441\u044f \u0434\u043b\u044f \u043f\u043e\u0434\u0441\u0447\u0435\u0442\u0430 \u0447\u0430\u0441\u0442\u043e\u0442\u044b \u044d\u043b\u0435\u043c\u0435\u043d\u0442\u043e\u0432 \u0432 \u0441\u043f\u0438\u0441\u043a\u0435. \u0422\u0430\u043a\u0436\u0435 \u043c\u043e\u0436\u043d\u043e \u0441\u0434\u0435\u043b\u0430\u0442\u044c \u0441\u043b\u043e\u0432\u0430\u0440\u044c \u0441 \u0434\u0435\u0444\u043e\u043b\u0442\u043d\u044b\u043c \u0437\u043d\u0430\u0447\u0435\u043d\u0438\u0435\u043c.  "
     ]
    },
    {
     "cell_type": "code",
     "collapsed": false,
     "input": [
      "from collections import Counter\n",
      "\n",
      "print Counter(['a', 'b', 'c', 'd', 'a', 'b'])\n",
      "\n",
      "with open('warpeace.txt') as f:\n",
      "    import re\n",
      "    words = re.findall(r'\\w+', f.read().lower())\n",
      "    cnt = Counter(words)"
     ],
     "language": "python",
     "metadata": {},
     "outputs": []
    },
    {
     "cell_type": "code",
     "collapsed": false,
     "input": [
      "from collections import defaultdict\n",
      "\n",
      "d = defaultdict(list)\n",
      "s = [('yellow', 1), ('blue', 2), ('yellow', 3), ('blue', 4), ('red', 1)]\n",
      "\n",
      "for (color, number) in s:\n",
      "    d[color].append(number)\n",
      "\n",
      "print d.items()\n",
      "\n",
      "d2 = defaultdict(int)\n",
      "for (color, number) in s:\n",
      "    d2[color] += number\n",
      "    \n",
      "print d2.items()"
     ],
     "language": "python",
     "metadata": {},
     "outputs": []
    },
    {
     "cell_type": "markdown",
     "metadata": {},
     "source": [
      "### [os](https://docs.python.org/2/library/os.html)\n",
      "\n",
      "\u0421\u0442\u0430\u043d\u0434\u0430\u0440\u0442\u043d\u0430\u044f \u0431\u0438\u0431\u043b\u0438\u043e\u0442\u0435\u043a\u0430. \u0418\u0441\u043f\u043e\u043b\u044c\u0437\u0443\u0435\u0442\u0441\u044f \u0434\u043b\u044f \u0443\u043f\u0440\u0430\u0432\u043b\u0435\u043d\u0438\u044f\u043c\u0438 \u0444\u0430\u0439\u043b\u043e\u0432 \u043d\u0430 \u043a\u043e\u043c\u043f\u044c\u044e\u0442\u0435\u0440\u0435. \u0423\u0434\u043e\u0431\u043d\u043e \u043f\u0440\u0438 \u0440\u0430\u0431\u043e\u0442\u0435 \u043d\u0430 \u0443\u0434\u0430\u043b\u0435\u043d\u043d\u043e\u0439 \u043c\u0430\u0448\u0438\u043d\u0435. "
     ]
    },
    {
     "cell_type": "code",
     "collapsed": false,
     "input": [
      "import os\n",
      "\n",
      "current_dir = os.getcwd()\n",
      "os.chdir('/home/sivanov/')\n",
      "# print os.getcwd()\n",
      "os.chdir(current_dir)\n",
      "# print os.getcwd()\n",
      "# print os.listdir('.')\n",
      "\n",
      "if os.path.isdir('test'):\n",
      "    os.rmdir('test')\n",
      "os.mkdir('test')\n",
      "# print os.listdir('.') \n",
      "os.rmdir('test')\n",
      "# print os.listdir('.') \n",
      "\n",
      "# while True:\n",
      "#     if os.path.exists('test.txt'):\n",
      "#         if not os.path.isdir('folder_for_txt'):\n",
      "#             os.mkdir('folder_for_txt')\n",
      "#         os.rename('test.txt', 'folder_for_txt/test.txt')\n",
      "    \n",
      "# track if file appears, move it to the folder"
     ],
     "language": "python",
     "metadata": {},
     "outputs": []
    },
    {
     "cell_type": "markdown",
     "metadata": {},
     "source": [
      "### [Timing](http://pynash.org/2013/03/06/timing-and-profiling.html)\n",
      "\n",
      "time - \u0441\u0442\u0430\u043d\u0434\u0430\u0440\u0442\u043d\u0430\u044f \u0431\u0438\u0431\u0438\u043b\u043e\u0442\u0435\u043a\u0430. %time \u0432\u043e\u0437\u043c\u043e\u0436\u043d\u043e\u0441\u0442\u044c ipython. \u0418\u0441\u043f\u043e\u043b\u044c\u0437\u0443\u0435\u0442\u0441\u044f \u0434\u043b\u044f \u043f\u043e\u0434\u0441\u0447\u0435\u0442\u0430 \u0437\u0430\u0442\u0440\u0430\u0447\u0435\u043d\u043d\u043e\u0433\u043e \u0432\u0440\u0435\u043c\u0435\u043d\u0438. "
     ]
    },
    {
     "cell_type": "code",
     "collapsed": false,
     "input": [
      "b = 10**6\n",
      "def print_f(N):\n",
      "    a = 0\n",
      "    for i in range(N):\n",
      "        a += b\n",
      "        \n",
      "print_f(10)"
     ],
     "language": "python",
     "metadata": {},
     "outputs": []
    },
    {
     "cell_type": "code",
     "collapsed": false,
     "input": [
      "%time print_f(10**7)\n",
      "\n",
      "import time\n",
      "start = time.time()\n",
      "print_f(10**7)\n",
      "finish = time.time()\n",
      "print finish - start\n"
     ],
     "language": "python",
     "metadata": {},
     "outputs": []
    },
    {
     "cell_type": "markdown",
     "metadata": {},
     "source": [
      "### [Numpy](http://www.numpy.org/)\n",
      "\n",
      "\u0418\u0437\u0432\u0435\u0441\u0442\u043d\u044b\u0439 \u0434\u043e\u043f\u043e\u043b\u044c\u043d\u0438\u0442\u0435\u043b\u044c\u043d\u044b\u0439 \u043f\u0430\u043a\u0435\u0442 (\u0442\u0440\u0435\u0431\u0443\u0435\u0442 \u0443\u0441\u0442\u0430\u043d\u043e\u0432\u043a\u0438). \u0418\u0441\u043f\u043e\u043b\u044c\u0437\u0443\u0435\u0442\u0441\u044f \u043c\u0430\u0442\u0435\u043c\u0430\u0442\u0438\u043a\u0430\u043c\u0438 \u0438 \u0431\u0438\u043e\u0438\u043d\u0444\u043e\u0440\u043c\u0430\u0442\u0438\u043a\u0430\u043c\u0438 \u0434\u043b\u044f \u0440\u0430\u0431\u043e\u0442\u044b \u0441 \u0432\u0435\u043a\u0442\u043e\u0440\u0430\u043c\u0438 \u0438 \u043c\u0430\u0442\u0440\u0438\u0446\u0430\u043c\u0438."
     ]
    },
    {
     "cell_type": "code",
     "collapsed": false,
     "input": [
      "import numpy as np\n",
      "\n",
      "cvalues = [25.3, 24.8, 26.9, 23.9]\n",
      "print cvalues\n",
      "\n",
      "np_values = np.array(cvalues)\n",
      "print np_values\n",
      "\n",
      "print np_values*9/5 + 32"
     ],
     "language": "python",
     "metadata": {},
     "outputs": []
    },
    {
     "cell_type": "code",
     "collapsed": false,
     "input": [
      "\n",
      "# comparison of timing\n",
      "def pure_python(N):\n",
      "    lst1 = random.sample(range(-10*6, 10**6), N)\n",
      "    lst2 = random.sample(range(-10*6, 10**6), N)\n",
      "    \n",
      "    return [lst1[i] + lst2[i] for i in range(N)]\n",
      "\n",
      "def numpy_version(N):\n",
      "    lst1 = np.random.randint(-10**6, 10**6, N)\n",
      "    lst2 = np.random.randint(-10**6, 10**6, N)\n",
      "    \n",
      "    return lst1 + lst2\n",
      "        \n",
      "N = 1000000"
     ],
     "language": "python",
     "metadata": {},
     "outputs": []
    },
    {
     "cell_type": "code",
     "collapsed": false,
     "input": [
      "%time _ = pure_python(N)"
     ],
     "language": "python",
     "metadata": {},
     "outputs": []
    },
    {
     "cell_type": "code",
     "collapsed": false,
     "input": [
      "%time _ = numpy_version(N)"
     ],
     "language": "python",
     "metadata": {},
     "outputs": []
    },
    {
     "cell_type": "code",
     "collapsed": false,
     "input": [
      "arr1 = np.random.randint(1, 6, 10)\n",
      "arr2 = np.random.randint(1, 6, 10)\n",
      "print arr1\n",
      "print arr2\n",
      "print arr1*arr2\n",
      "print arr1.dot(arr2)"
     ],
     "language": "python",
     "metadata": {},
     "outputs": []
    },
    {
     "cell_type": "code",
     "collapsed": false,
     "input": [
      "matrix1 = np.random.randint(1, 6, (2, 2))\n",
      "matrix2 = np.random.randint(1, 6, (2, 2))\n",
      "print matrix1\n",
      "print matrix2\n",
      "matrix1*matrix2\n",
      "matrix1.dot(matrix2)"
     ],
     "language": "python",
     "metadata": {},
     "outputs": []
    },
    {
     "cell_type": "code",
     "collapsed": false,
     "input": [
      "# indexing\n",
      "\n",
      "x = np.array([10, 1, 5, 11, -1, 0])\n",
      "x[2:]\n",
      "\n",
      "x = np.array([[10, 3, 5],\n",
      "              [0, 17, 1]])\n",
      "\n",
      "x[1][1:]\n",
      "\n",
      "x = np.array([[[6, 0, 7, 0],\n",
      "                [0, 6, 7, 0],\n",
      "                [4, 1, 4, 3]],\n",
      "              \n",
      "               [[6, 3, 1, 7],\n",
      "                [1, 2, 0, 7],\n",
      "                [0, 2, 0, 4]]])\n",
      "\n",
      "print x.shape\n",
      "print x[1, 1:, 2:]"
     ],
     "language": "python",
     "metadata": {},
     "outputs": []
    },
    {
     "cell_type": "markdown",
     "metadata": {},
     "source": [
      "### [Matplotlib](http://matplotlib.org/users/pyplot_tutorial.html)\n",
      "\n",
      "\u0414\u043e\u043f\u043e\u043b\u043d\u0438\u0442\u0435\u043b\u044c\u043d\u0430\u044f \u0431\u0438\u0431\u043b\u0438\u043e\u0442\u0435\u043a\u0430. \u0418\u0441\u043f\u043e\u043b\u044c\u0437\u0443\u0435\u0442\u0441\u044f \u0434\u043b\u044f \u043f\u043e\u0441\u0442\u0440\u043e\u0435\u043d\u0438\u044f \u0433\u0440\u0430\u0444\u0438\u043a\u043e\u0432. "
     ]
    },
    {
     "cell_type": "code",
     "collapsed": false,
     "input": [
      "import matplotlib.pyplot as plt\n",
      "%matplotlib inline\n",
      "\n",
      "x = [1,2,3,4]\n",
      "y = [-1, 2, 0, 4]\n",
      "\n",
      "p1, = plt.plot(x, y)\n",
      "plt.ylabel('y axis')\n",
      "plt.title('First plot')\n",
      "plt.legend(['Blue line'])\n",
      "\n",
      "plt.show()"
     ],
     "language": "python",
     "metadata": {},
     "outputs": []
    },
    {
     "cell_type": "code",
     "collapsed": false,
     "input": [
      "import numpy as np\n",
      "\n",
      "# \u0437\u0430\u0434\u0430\u0442\u044c \u0440\u0430\u0437\u043c\u0435\u0440 \u044d\u043a\u0440\u0430\u043d\u0430 \n",
      "plt.figure(figsize=(8,6))\n",
      "\n",
      "x = np.arange(-np.pi, np.pi, 0.01)\n",
      "y1 = np.sin(x)\n",
      "\n",
      "# \u043d\u0430\u0440\u0438\u0441\u043e\u0432\u0430\u0442\u044c \n",
      "plt.plot(x, y1, 'r--', x, y1**2, 'b--', linewidth=3)\n",
      "\n",
      "# \u0441\u043e\u0437\u0434\u0430\u0442\u044c \u0441\u0435\u0442\u043a\u0443\n",
      "plt.grid()\n",
      "\n",
      "plt.show()\n"
     ],
     "language": "python",
     "metadata": {},
     "outputs": []
    },
    {
     "cell_type": "markdown",
     "metadata": {},
     "source": [
      "### [scipy](http://docs.scipy.org/doc/scipy-0.16.0/reference/tutorial/index.html)\n",
      "\n",
      "\u0414\u043e\u043f\u043e\u043b\u044c\u043d\u0438\u0442\u0435\u043b\u044c\u043d\u0430\u044f \u0431\u0438\u0431\u043b\u0438\u043e\u0442\u0435\u043a\u0430. \u0418\u0441\u043f\u043e\u043b\u044c\u0437\u0443\u0435\u0442\u0441\u044f \u0434\u043b\u044f \u043b\u0438\u043d\u0435\u0439\u043d\u043e\u0439 \u0430\u043b\u0433\u0435\u0431\u0440\u044b, \u0440\u0435\u0448\u0435\u043d\u0438\u044f \u0441\u0438\u0441\u0442\u0435\u043c\u044b \u0443\u0440\u0430\u0432\u043d\u0435\u043d\u0438\u0439, \u0442\u0440\u0430\u043d\u0441\u043f\u043e\u043d\u0438\u0440\u043e\u0432\u0430\u043d\u0438\u044f \u043c\u0430\u0442\u0440\u0438\u0446. \u0422\u0430\u043a\u0436\u0435 \u0438\u043c\u0435\u0435\u0442 \u043c\u043d\u043e\u0433\u043e \u0441\u0442\u0430\u0442\u0438\u0441\u0442\u0438\u0447\u0435\u0441\u043a\u0438\u0445 \u0440\u0430\u0441\u043f\u0440\u0435\u0434\u0435\u043b\u0435\u043d\u0438\u0439. "
     ]
    },
    {
     "cell_type": "code",
     "collapsed": false,
     "input": [
      "from scipy import linalg\n",
      "A = np.matrix('[1 2;3 4]')\n",
      "b = np.matrix([5,6])\n",
      "\n",
      "A*b.T\n",
      "linalg.inv(A)"
     ],
     "language": "python",
     "metadata": {},
     "outputs": []
    },
    {
     "cell_type": "markdown",
     "metadata": {},
     "source": [
      "#### \u0414\u043e\u043f\u0443\u0441\u0442\u0438\u043c \u043d\u0430\u0434\u043e \u0440\u0435\u0448\u0438\u0442\u044c \u0442\u0430\u043a\u0443\u044e \u0441\u0438\u0441\u0442\u0435\u043c\u0443\n",
      "\n",
      "\\begin{eqnarray*} x + 3y + 5z & = & 10 \\\\\n",
      "                   2x + 5y + z & = & 8  \\\\\n",
      "                   2x + 3y + 8z & = & 3\n",
      "\\end{eqnarray*}\n",
      " \n",
      "\u041c\u043e\u0436\u043d\u043e \u0437\u0430\u043f\u0438\u0441\u0430\u0442\u044c \u0432 \u0432\u0438\u0434\u0435:\n",
      "\n",
      "\\begin{split}\\left[\\begin{array}{ccc} 1 & 3 & 5\\\\ 2 & 5 & 1\\\\ 2 & 3 & 8\\end{array}\\right]\\left[\\begin{array}{c} x\\\\ y\\\\ z\\end{array}\\right]=\\left[\\begin{array}{c} 10\\\\ 8\\\\ 3\\end{array}\\right].\\end{split}"
     ]
    },
    {
     "cell_type": "code",
     "collapsed": false,
     "input": [
      "A = np.array([[1,3,5], [2,5,1], [2,3,8]])\n",
      "b = np.array([10, 8, 3])\n",
      "\n",
      "x = linalg.solve(A,b)"
     ],
     "language": "python",
     "metadata": {},
     "outputs": []
    },
    {
     "cell_type": "code",
     "collapsed": false,
     "input": [
      "# \u043e\u043f\u0440\u0435\u0434\u0435\u043b\u0438\u0442\u0435\u043b\u044c \u0438 \u043d\u043e\u0440\u043c\u044b\n",
      "print A\n",
      "linalg.det(A)\n",
      "linalg.norm(A, 1)\n",
      "\n",
      "x = np.array([-3, 4])\n",
      "y = np.array([1, 1])\n",
      "np.linalg.norm(x - y, 1)"
     ],
     "language": "python",
     "metadata": {},
     "outputs": []
    },
    {
     "cell_type": "markdown",
     "metadata": {},
     "source": [
      "\u0412 scipy.stats [\u043d\u0430\u0445\u043e\u0434\u044f\u0442\u0441\u044f](http://docs.scipy.org/doc/scipy/reference/stats.html) \u0440\u0430\u0437\u043b\u0438\u0447\u043d\u044b\u0435 \u0440\u0430\u0441\u043f\u0440\u0435\u0434\u0435\u043b\u0435\u043d\u0438\u044f."
     ]
    },
    {
     "cell_type": "code",
     "collapsed": false,
     "input": [
      "# distributions\n",
      "from scipy import stats\n",
      "import matplotlib.pyplot as plt\n",
      "%matplotlib inline\n",
      "x = np.linspace(0, 3, 100)\n",
      "y = stats.beta.pdf(x, 10, 10)\n",
      "# y = stats.norm.pdf(x, 0, 1)\n",
      "plt.plot(x, y)\n",
      "plt.show()\n"
     ],
     "language": "python",
     "metadata": {},
     "outputs": []
    },
    {
     "cell_type": "markdown",
     "metadata": {},
     "source": [
      "### [Pandas](http://pandas.pydata.org/pandas-docs/stable/tutorials.html)\n",
      "\n",
      "\u0414\u043e\u043f\u043e\u043b\u043d\u0438\u0442\u0435\u043b\u044c\u043d\u0430\u044f \u0431\u0438\u0431\u043b\u0438\u043e\u0442\u0435\u043a\u0430. \u0418\u0441\u043f\u043e\u043b\u044c\u0437\u0443\u0435\u0442\u0441\u044f \u0434\u043b\u044f \u0447\u0442\u0435\u043d\u0438\u044f \u0444\u0430\u0439\u043b\u043e\u0432, \u0432 \u043a\u043e\u0442\u043e\u0440\u044b\u0445 \u0434\u0430\u043d\u043d\u044b\u0435 \u043e\u0440\u0433\u0430\u043d\u0438\u0437\u043e\u0432\u0430\u043d\u044b \u043a\u0430\u043a \u043a\u043e\u043b\u043e\u043d\u043a\u0438. \u0412\u043e\u0437\u0432\u0440\u0430\u0449\u0430\u0435\u0442 \u0441\u0442\u0440\u0443\u043a\u0442\u0443\u0440\u0443, \u043a\u043e\u0442\u043e\u0440\u0430\u044f \u0438\u043c\u0435\u0435\u0442 \u043c\u043d\u043e\u0433\u043e \u043c\u0435\u0442\u043e\u0434\u043e\u0432 \u0434\u043b\u044f \u0440\u0430\u0431\u043e\u0442\u044b \u0441 \u0442\u0430\u0431\u043b\u0438\u0446\u0430\u043c\u0438: \u043f\u043e\u0434\u0441\u0447\u0435\u0442 \u043c\u0430\u043a\u0441\u0438\u043c\u0443\u043c\u043e\u0432, \u0444\u0438\u043b\u044c\u0442\u0440\u0430\u0446\u0438\u044f \u0441\u0442\u0440\u043e\u043a, \u043f\u043e\u0441\u0442\u0440\u043e\u0435\u043d\u0438\u0435 \u0440\u0430\u0441\u043f\u0440\u0435\u0434\u0435\u043b\u0435\u043d\u0438\u0439. \u0421\u0445\u043e\u0436 \u0441 \u043c\u0435\u0442\u043e\u0434\u0430\u043c\u0438 \u0432 R. "
     ]
    },
    {
     "cell_type": "code",
     "collapsed": false,
     "input": [
      "import pandas as pd \n",
      "\n",
      "df = pd.read_csv('sample.txt', sep = ' ') \n",
      "df.columns\n",
      "df['size']\n",
      "df.ix[1:3, 0]\n",
      "\n",
      "df['size'].mean()\n",
      "df['size'].max()\n",
      "idx = df['size'].argmax()\n",
      "df.ix[idx]"
     ],
     "language": "python",
     "metadata": {},
     "outputs": []
    },
    {
     "cell_type": "markdown",
     "metadata": {},
     "source": [
      "### [Biopython](http://biopython.org/DIST/docs/tutorial/Tutorial.html)\n",
      "\u0414\u043e\u043f\u043e\u043b\u043d\u0438\u0442\u0435\u043b\u044c\u043d\u0430\u044f \u0431\u0438\u0431\u043b\u0438\u043e\u0442\u0435\u043a\u0430 \u0434\u043b\u044f \u0440\u0430\u0431\u043e\u0442\u044b \u0441 \u043f\u043e\u0441\u043b\u0435\u0434\u043e\u0432\u0430\u0442\u0435\u043b\u044c\u043d\u043e\u0441\u0442\u044f\u043c\u0438, \u0433\u0435\u043d\u043e\u043c\u0430\u043c\u0438, \u0444\u0438\u043b\u043e\u0433\u0435\u043d\u0438\u0442\u0438\u0447\u0435\u0441\u043a\u0438\u043c\u0438 \u0434\u0435\u0440\u0435\u0432\u044c\u044f\u043c\u0438. "
     ]
    },
    {
     "cell_type": "code",
     "collapsed": false,
     "input": [
      "from Bio.Seq import Seq\n",
      "from Bio.Alphabet import generic_dna, generic_protein, generic_rna\n",
      "\n",
      "my_seq = Seq(\"AGTACACTGGT\")\n",
      "my_dna = Seq(\"AGTACACTGGT\", generic_dna)\n",
      "my_dna + my_seq\n",
      "my_protein = Seq(\"AGTACACTGGT\", generic_protein)\n",
      "# my_dna+ my_protein"
     ],
     "language": "python",
     "metadata": {},
     "outputs": []
    },
    {
     "cell_type": "code",
     "collapsed": false,
     "input": [
      "my_dna.find(\"ACT\")\n",
      "my_dna.count(\"CT\")"
     ],
     "language": "python",
     "metadata": {},
     "outputs": []
    },
    {
     "cell_type": "code",
     "collapsed": false,
     "input": [
      "print my_dna, my_dna.complement(), my_dna.reverse_complement()\n"
     ],
     "language": "python",
     "metadata": {},
     "outputs": []
    },
    {
     "cell_type": "code",
     "collapsed": false,
     "input": [
      "print my_dna, my_dna.transcribe() # \u0414\u041d\u041a -> \u0420\u041d\u041a\n",
      "print my_dna.transcribe().back_transcribe() # \u0420\u041d\u041a -> \u0414\u041d\u041a"
     ],
     "language": "python",
     "metadata": {},
     "outputs": []
    },
    {
     "cell_type": "code",
     "collapsed": false,
     "input": [
      "messenger_rna = Seq(\"AUGGCCAUUGUAAUGGGCCGCUGAAAGGGUGCCCGAUAG\", \n",
      "                    generic_rna)\n",
      "coding_dna = messenger_rna.back_transcribe()\n",
      "\n",
      "# \u0432 \u0431\u0435\u043b\u043e\u043a \n",
      "print messenger_rna.translate() \n",
      "print coding_dna.translate() "
     ],
     "language": "python",
     "metadata": {},
     "outputs": []
    },
    {
     "cell_type": "code",
     "collapsed": false,
     "input": [
      "from Bio import SeqIO\n",
      "\n",
      "with open('fasta_example.fasta') as f:\n",
      "    records = list(SeqIO.parse(f, 'fasta'))\n",
      "    \n",
      "records[0].seq\n",
      "print len(records[0].seq)\n",
      "\n",
      "for r in records:\n",
      "    r.seq = r.seq[:50]\n",
      "    \n",
      "with open('fast_cut.fasta', 'w') as f:\n",
      "    SeqIO.write(records, f, 'fasta')"
     ],
     "language": "python",
     "metadata": {},
     "outputs": []
    },
    {
     "cell_type": "code",
     "collapsed": false,
     "input": [],
     "language": "python",
     "metadata": {},
     "outputs": []
    }
   ],
   "metadata": {}
  }
 ]
}