{
 "metadata": {
  "name": ""
 },
 "nbformat": 3,
 "nbformat_minor": 0,
 "worksheets": [
  {
   "cells": [
    {
     "cell_type": "markdown",
     "metadata": {},
     "source": [
      "###\u0423\u0441\u043b\u043e\u0432\u043d\u044b\u0435 \u0432\u044b\u0440\u0430\u0436\u0435\u043d\u0438\u044f"
     ]
    },
    {
     "cell_type": "markdown",
     "metadata": {},
     "source": [
      "## if/elif/else"
     ]
    },
    {
     "cell_type": "code",
     "collapsed": false,
     "input": [
      "speed = 75\n",
      "mood = 'good'"
     ],
     "language": "python",
     "metadata": {},
     "outputs": [],
     "prompt_number": 9
    },
    {
     "cell_type": "code",
     "collapsed": false,
     "input": [
      "if speed >= 60:\n",
      "    print 'License and registration please'\n",
      "    if mood == 'terrible' or speed >= 100:\n",
      "      print 'You have the right to remain silent.'\n",
      "    elif mood == 'bad' or speed >= 90:\n",
      "      print \"I'm going to have to write you a ticket.\"\n",
      "    else:\n",
      "      print \"Let's try to keep it under 60 ok?\""
     ],
     "language": "python",
     "metadata": {},
     "outputs": [
      {
       "output_type": "stream",
       "stream": "stdout",
       "text": [
        "License and registration please\n",
        "Let's try to keep it under 60 ok?\n"
       ]
      }
     ],
     "prompt_number": 10
    },
    {
     "cell_type": "markdown",
     "metadata": {},
     "source": [
      "##while "
     ]
    },
    {
     "cell_type": "code",
     "collapsed": false,
     "input": [
      "while speed > 60:\n",
      "    print 'Please, stop the car; you are over speed limit'\n",
      "    print speed\n",
      "    speed -= 10"
     ],
     "language": "python",
     "metadata": {},
     "outputs": [],
     "prompt_number": 13
    },
    {
     "cell_type": "code",
     "collapsed": false,
     "input": [],
     "language": "python",
     "metadata": {},
     "outputs": []
    }
   ],
   "metadata": {}
  }
 ]
}