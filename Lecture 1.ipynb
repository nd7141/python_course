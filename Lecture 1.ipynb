{
 "metadata": {
  "name": ""
 },
 "nbformat": 3,
 "nbformat_minor": 0,
 "worksheets": [
  {
   "cells": [
    {
     "cell_type": "markdown",
     "metadata": {},
     "source": [
      "### \u041f\u0435\u0440\u0435\u043c\u0435\u043d\u043d\u044b\u0435 \u0438 \u041a\u043b\u044e\u0447\u0435\u0432\u044b\u0435 \u0441\u043b\u043e\u0432\u0430. \u0410\u0440\u0438\u0444\u043c\u0435\u0442\u0438\u043a\u0430. "
     ]
    },
    {
     "cell_type": "code",
     "collapsed": false,
     "input": [
      "counter = 100\n",
      "name = 'Sergey'\n",
      "\n",
      "print ('''\n",
      "and       del       from      not       while   \n",
      "as        elif      global    or        with      \n",
      "assert    else      if        pass      yield    \n",
      "break     except    import    print              \n",
      "class     exec      in        raise              \n",
      "continue  finally   is        return              \n",
      "def       for       lambda    try ''')\n",
      "\n",
      "print 1+1"
     ],
     "language": "python",
     "metadata": {},
     "outputs": []
    },
    {
     "cell_type": "markdown",
     "metadata": {},
     "source": [
      "### \u0418\u043c\u043f\u043e\u0440\u0442 \u0431\u0438\u0431\u043b\u0438\u043e\u0442\u0435\u043a"
     ]
    },
    {
     "cell_type": "code",
     "collapsed": false,
     "input": [
      "import math\n",
      "\n",
      "print math.log(2.71)"
     ],
     "language": "python",
     "metadata": {},
     "outputs": []
    },
    {
     "cell_type": "markdown",
     "metadata": {},
     "source": [
      "### \u0427\u0438\u0441\u043b\u0430"
     ]
    },
    {
     "cell_type": "code",
     "collapsed": false,
     "input": [
      "a = 1\n",
      "pi = 3.14\n",
      "print pi**2\n",
      "print a**2 + (a-2) + 4"
     ],
     "language": "python",
     "metadata": {},
     "outputs": []
    },
    {
     "cell_type": "markdown",
     "metadata": {},
     "source": [
      "### \u0421\u0442\u0440\u043e\u043a\u0438 "
     ]
    },
    {
     "cell_type": "code",
     "collapsed": false,
     "input": [
      "s = \"Hello world!\"\n",
      "print s.capitalize()\n",
      "print s.center(15)\n",
      "print s.count('ll')\n",
      "print s.startswith('Hel')\n",
      "print s.find('lo')\n",
      "\n",
      "# age = raw_input(\"what's your age?\")\n",
      "print 'You are {} years old'.format(age)\n",
      "\n",
      "'Mr.' in 'Hello mr. Johnson'\n",
      "print s.index('lo')\n",
      "\n",
      "password = 'SergeyIvanov2015'\n",
      "print password.isalpha()\n",
      "print password.isdigit()\n",
      "email = 'SergeyIvanov@gmail.com'\n",
      "print email.istitle()\n",
      "print email.isupper()\n",
      "print email.lower()\n",
      "s = 'Class of 2015'\n",
      "print s.rjust(20)\n",
      "\n",
      "hello = 'Hello        '\n",
      "print len(hello)\n",
      "print hello.strip()\n",
      "print len(hello.strip())\n",
      "\n",
      "print \" \".join(['a', 'b', 'c', 'd'])\n",
      "\n",
      "words = 'Anna John Bruce Elton Mary Codi'\n",
      "print words.split()"
     ],
     "language": "python",
     "metadata": {},
     "outputs": []
    },
    {
     "cell_type": "markdown",
     "metadata": {},
     "source": [
      "### \u0421\u043f\u0438\u0441\u043a\u0438"
     ]
    },
    {
     "cell_type": "code",
     "collapsed": false,
     "input": [
      "lst1 = [1,2,3]\n",
      "lst2 = ['a', 10.5, 'b']\n",
      "lst1.append(10)\n",
      "lst2.extend([5,-1])\n",
      "\n",
      "print 5 in lst1\n",
      "\n",
      "a = [66.25, 333, 333, 1, 1234.5]\n",
      "a.insert(0, 100)\n",
      "a.remove(333)\n",
      "idx = a.index(1234.5)\n",
      "\n",
      "r = range(1, 100, 10)\n",
      "print r\n",
      "\n",
      "r.reverse()\n",
      "print r"
     ],
     "language": "python",
     "metadata": {},
     "outputs": []
    },
    {
     "cell_type": "markdown",
     "metadata": {},
     "source": [
      "### \u0421\u043b\u043e\u0432\u0430\u0440\u0438"
     ]
    },
    {
     "cell_type": "code",
     "collapsed": false,
     "input": [
      "tel = {'jack': 4098, 'sape': 4139}\n",
      "tel['guido'] = 4127\n",
      "del tel['sape']\n",
      "print tel.keys()\n",
      "print tel.values()\n",
      "print tel.items()\n",
      "\n",
      "tel_book = {'ann': 4040}\n",
      "tel_book.update(tel)\n",
      "print tel_book\n",
      "\n",
      "print tel_book.get('sergey', None)\n",
      "tel_book.setdefault('sergey', 1038)\n",
      "print tel_book"
     ],
     "language": "python",
     "metadata": {},
     "outputs": []
    },
    {
     "cell_type": "markdown",
     "metadata": {},
     "source": [
      "### \u0424\u0443\u043d\u043a\u0446\u0438\u0438"
     ]
    },
    {
     "cell_type": "code",
     "collapsed": false,
     "input": [
      "def say_hello():\n",
      "    s = raw_input(\"What's your name?\")\n",
      "    print 'Hello {}'.format(s)"
     ],
     "language": "python",
     "metadata": {},
     "outputs": []
    },
    {
     "cell_type": "markdown",
     "metadata": {},
     "source": [
      "### \u041a\u043b\u0430\u0441\u0441\u044b"
     ]
    },
    {
     "cell_type": "code",
     "collapsed": false,
     "input": [
      "class Calculator(object):\n",
      "    def __init__(self):\n",
      "        self.me = \"I'm a calculator\"\n",
      "        self.operations = []\n",
      "        \n",
      "    def sum_two_numbers(a, b):\n",
      "        self.operations.append(('+', a, b))\n",
      "        return a+b"
     ],
     "language": "python",
     "metadata": {},
     "outputs": []
    },
    {
     "cell_type": "markdown",
     "metadata": {},
     "source": [
      "### \u0423\u0441\u043b\u043e\u0432\u043d\u044b\u0435 \u0432\u044b\u0440\u0430\u0436\u0435\u043d\u0438\u044f"
     ]
    },
    {
     "cell_type": "code",
     "collapsed": false,
     "input": [
      "if 1+1 == 2:\n",
      "    print 'You are a genius!'\n",
      "else:\n",
      "    print 'Are you serious?'"
     ],
     "language": "python",
     "metadata": {},
     "outputs": []
    },
    {
     "cell_type": "markdown",
     "metadata": {},
     "source": [
      "### \u0420\u0435\u043a\u0443\u0440\u0441\u0438\u044f"
     ]
    },
    {
     "cell_type": "code",
     "collapsed": false,
     "input": [
      "def recursiveF(n):\n",
      "    if n == 0:\n",
      "        print 'Down to zero'\n",
      "    else:\n",
      "        print n, \n",
      "        recursiveF(n-1)\n",
      "        \n",
      "def infinite_recursion(n):\n",
      "    print n\n",
      "    infinite_recursion(n-1)"
     ],
     "language": "python",
     "metadata": {},
     "outputs": []
    },
    {
     "cell_type": "markdown",
     "metadata": {},
     "source": [
      "### \u0426\u0438\u043a\u043b\u044b"
     ]
    },
    {
     "cell_type": "code",
     "collapsed": false,
     "input": [
      "for i in range(10):\n",
      "    print i\n",
      "    \n",
      "count = 0 \n",
      "while count < 10:\n",
      "    count += 1\n",
      "    print count, \n",
      "    \n",
      "while True:\n",
      "    count += 1\n",
      "    if count = 20:\n",
      "        break"
     ],
     "language": "python",
     "metadata": {},
     "outputs": []
    },
    {
     "cell_type": "markdown",
     "metadata": {},
     "source": [
      "### \u0421\u0442\u0430\u043d\u0434\u0430\u0440\u0442\u043d\u044b\u0435 \u0444\u0443\u043d\u043a\u0446\u0438\u0438"
     ]
    },
    {
     "cell_type": "code",
     "collapsed": false,
     "input": [
      "import random \n",
      "\n",
      "r = random.sample(range(2000), 5)\n",
      "print r\n",
      "print max(r)\n",
      "print min(r)\n",
      "print sorted(r)\n",
      "print sum(r)\n",
      "\n",
      "def avg(lst):\n",
      "    pass\n",
      "\n",
      "digited = []\n",
      "for element in r:\n",
      "    # calculate number of digits\n",
      "    nbr = len(str(element))\n",
      "    digited.append(nbr)\n",
      "\n",
      "def number_of_digits(el):\n",
      "    return len(str(el))\n",
      "\n",
      "# map example\n",
      "digited2 = map(number_of_digits, r)\n",
      "\n",
      "# filter example\n",
      "words = random.sample(range(200), 5)\n",
      "filter(lambda el: el<10, words)\n",
      "\n",
      "# reduce example\n",
      "def merge(dct1, dct2):\n",
      "    for key in dct2:\n",
      "        if key in dct1:\n",
      "            dct1[key] += dct2[key]\n",
      "        else:\n",
      "            dct1[key] = dct2[key]\n",
      "    return dct1\n",
      "\n",
      "dct1 = {'GGC': 2, 'ATA': 1}\n",
      "dct2 = {'ATA': 3, 'GCT': 1}\n",
      "dct3 = {'GGC': 4, 'AAA': 5}\n",
      "print reduce(merge, [dct1, dct2, dct3], {})\n"
     ],
     "language": "python",
     "metadata": {},
     "outputs": []
    },
    {
     "cell_type": "markdown",
     "metadata": {},
     "source": [
      "### \u041e\u0431\u0440\u0430\u0431\u043e\u0442\u043a\u0430 \u043e\u0448\u0438\u0431\u043e\u043a"
     ]
    },
    {
     "cell_type": "code",
     "collapsed": false,
     "input": [
      "try:\n",
      "    i = 5/0\n",
      "except ZeroDivisionError:\n",
      "    print 'Division by zero. Moving on'\n",
      "    "
     ],
     "language": "python",
     "metadata": {},
     "outputs": []
    },
    {
     "cell_type": "markdown",
     "metadata": {},
     "source": [
      "### \u0427\u0442\u0435\u043d\u0438\u0435 \u0438 \u0417\u0430\u043f\u0438\u0441\u044c \u0444\u0430\u0439\u043b\u043e\u0432."
     ]
    },
    {
     "cell_type": "code",
     "collapsed": false,
     "input": [
      "with open('input.txt', 'r') as f:\n",
      "    lines = f.readlines()\n",
      "    \n",
      "for line in lines:\n",
      "    print line, len(line), type(line)\n",
      "    print '--------------'\n",
      "    \n",
      "s = 'endofline\\n'\n",
      "print s, 'want to be on the same line'"
     ],
     "language": "python",
     "metadata": {},
     "outputs": []
    },
    {
     "cell_type": "code",
     "collapsed": false,
     "input": [
      "with open('output.txt', 'w') as g:\n",
      "    g.write(str(123))\n",
      "    g.write(str(200))\n",
      "    \n",
      "    print >>g\n",
      "    print >>g, 123\n",
      "    print >>g, 200"
     ],
     "language": "python",
     "metadata": {},
     "outputs": []
    },
    {
     "cell_type": "code",
     "collapsed": false,
     "input": [
      "with open('output.txt', 'a+') as g:\n",
      "    g.write(str(500))\n",
      "\n",
      "with open('output.txt', 'a+') as g:\n",
      "    for line in g:\n",
      "        print line.strip()"
     ],
     "language": "python",
     "metadata": {},
     "outputs": []
    }
   ],
   "metadata": {}
  }
 ]
}